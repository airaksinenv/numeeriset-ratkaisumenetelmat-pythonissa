{
 "cells": [
  {
   "cell_type": "markdown",
   "metadata": {},
   "source": [
    "## Implementoitujen ratkaisumenetelmien testaus"
   ]
  },
  {
   "cell_type": "code",
   "execution_count": 1,
   "metadata": {},
   "outputs": [],
   "source": [
    "from funcs import bisection_method"
   ]
  },
  {
   "cell_type": "markdown",
   "metadata": {},
   "source": [
    "### Jakovälimenetelmä"
   ]
  },
  {
   "cell_type": "code",
   "execution_count": 5,
   "metadata": {},
   "outputs": [
    {
     "name": "stdout",
     "output_type": "stream",
     "text": [
      "Nykyinen virhe: 1.0\n",
      "Uusi alaraja a: 1.0, uusi yläraja b: 2\n",
      "Nykyinen virhe: 0.5\n",
      "Uusi alaraja a: 1.0, uusi yläraja b: 1.5\n",
      "Nykyinen virhe: 0.25\n",
      "Uusi alaraja a: 1.25, uusi yläraja b: 1.5\n",
      "Nykyinen virhe: 0.125\n",
      "Uusi alaraja a: 1.375, uusi yläraja b: 1.5\n",
      "Nykyinen virhe: 0.0625\n",
      "Uusi alaraja a: 1.375, uusi yläraja b: 1.4375\n",
      "Nykyinen virhe: 0.03125\n",
      "Uusi alaraja a: 1.40625, uusi yläraja b: 1.4375\n",
      "Nykyinen virhe: 0.015625\n",
      "Uusi alaraja a: 1.40625, uusi yläraja b: 1.421875\n",
      "Nykyinen virhe: 0.0078125\n",
      "Uusi alaraja a: 1.4140625, uusi yläraja b: 1.421875\n",
      "Nykyinen virhe: 0.00390625\n",
      "Uusi alaraja a: 1.4140625, uusi yläraja b: 1.41796875\n",
      "Nykyinen virhe: 0.001953125\n",
      "Uusi alaraja a: 1.4140625, uusi yläraja b: 1.416015625\n",
      "Nykyinen virhe: 0.0009765625\n",
      "Uusi alaraja a: 1.4140625, uusi yläraja b: 1.4150390625\n",
      "Löydetty juuri: 1.41455078125\n"
     ]
    }
   ],
   "source": [
    "# Määritetään funktio, jonka juurta etsitään (esim. f(x) = x^2 - 2)\n",
    "f = lambda x: x**2 - 2\n",
    "\n",
    "# Kutsutaan bisection-metodia ja etsitään juurta välillä [0, 2] tarkkuudella 0.001\n",
    "juuri = bisection_method(f, 0, 2, 0.001)\n",
    "\n",
    "print(f\"Löydetty juuri: {juuri}\")"
   ]
  },
  {
   "cell_type": "code",
   "execution_count": 4,
   "metadata": {},
   "outputs": [
    {
     "name": "stdout",
     "output_type": "stream",
     "text": [
      "Nykyinen virhe: 0.5\n",
      "Uusi alaraja a: 1.5, uusi yläraja b: 2\n",
      "Nykyinen virhe: 0.25\n",
      "Uusi alaraja a: 1.5, uusi yläraja b: 1.75\n",
      "Nykyinen virhe: 0.125\n",
      "Uusi alaraja a: 1.5, uusi yläraja b: 1.625\n",
      "Nykyinen virhe: 0.0625\n",
      "Uusi alaraja a: 1.5, uusi yläraja b: 1.5625\n",
      "Nykyinen virhe: 0.03125\n",
      "Uusi alaraja a: 1.5, uusi yläraja b: 1.53125\n",
      "Nykyinen virhe: 0.015625\n",
      "Uusi alaraja a: 1.515625, uusi yläraja b: 1.53125\n",
      "Nykyinen virhe: 0.0078125\n",
      "Uusi alaraja a: 1.515625, uusi yläraja b: 1.5234375\n",
      "Nykyinen virhe: 0.00390625\n",
      "Uusi alaraja a: 1.51953125, uusi yläraja b: 1.5234375\n",
      "Nykyinen virhe: 0.001953125\n",
      "Uusi alaraja a: 1.51953125, uusi yläraja b: 1.521484375\n",
      "Nykyinen virhe: 0.0009765625\n",
      "Uusi alaraja a: 1.5205078125, uusi yläraja b: 1.521484375\n",
      "Nykyinen virhe: 0.00048828125\n",
      "Uusi alaraja a: 1.52099609375, uusi yläraja b: 1.521484375\n",
      "Nykyinen virhe: 0.000244140625\n",
      "Uusi alaraja a: 1.521240234375, uusi yläraja b: 1.521484375\n",
      "Nykyinen virhe: 0.0001220703125\n",
      "Uusi alaraja a: 1.5213623046875, uusi yläraja b: 1.521484375\n",
      "Nykyinen virhe: 6.103515625e-05\n",
      "Uusi alaraja a: 1.5213623046875, uusi yläraja b: 1.52142333984375\n",
      "Löydetty juuri: 1.521392822265625\n"
     ]
    }
   ],
   "source": [
    "f2 = lambda x: x**3 - x - 2\n",
    "juuri2 = bisection_method(f2, 1, 2, 0.0001)\n",
    "print(f\"Löydetty juuri: {juuri2}\")"
   ]
  },
  {
   "cell_type": "code",
   "execution_count": 6,
   "metadata": {},
   "outputs": [
    {
     "ename": "ValueError",
     "evalue": "Ei juurta tai useita juuria annetulla välillä, jakomenetelmä ei toimi.",
     "output_type": "error",
     "traceback": [
      "\u001b[1;31m---------------------------------------------------------------------------\u001b[0m",
      "\u001b[1;31mValueError\u001b[0m                                Traceback (most recent call last)",
      "Cell \u001b[1;32mIn[6], line 2\u001b[0m\n\u001b[0;32m      1\u001b[0m f3 \u001b[38;5;241m=\u001b[39m \u001b[38;5;28;01mlambda\u001b[39;00m x: x\u001b[38;5;241m*\u001b[39m\u001b[38;5;241m*\u001b[39m\u001b[38;5;241m2\u001b[39m \u001b[38;5;241m+\u001b[39m \u001b[38;5;241m1\u001b[39m\n\u001b[1;32m----> 2\u001b[0m juuri3 \u001b[38;5;241m=\u001b[39m \u001b[43mbisection_method\u001b[49m\u001b[43m(\u001b[49m\u001b[43mf3\u001b[49m\u001b[43m,\u001b[49m\u001b[43m \u001b[49m\u001b[38;5;241;43m-\u001b[39;49m\u001b[38;5;241;43m1\u001b[39;49m\u001b[43m,\u001b[49m\u001b[43m \u001b[49m\u001b[38;5;241;43m1\u001b[39;49m\u001b[43m,\u001b[49m\u001b[43m \u001b[49m\u001b[38;5;241;43m0.0001\u001b[39;49m\u001b[43m)\u001b[49m  \u001b[38;5;66;03m# Tämä aiheuttaa ValueErrorin\u001b[39;00m\n",
      "File \u001b[1;32mc:\\Users\\Valtteri\\code\\numeeriset-ratkaisumenetelmat-pythonissa\\funcs.py:24\u001b[0m, in \u001b[0;36mbisection_method\u001b[1;34m(func, a, b, error_accept)\u001b[0m\n\u001b[0;32m     22\u001b[0m \u001b[38;5;66;03m# Tarkistetaan, että funktio vaihtaa merkkiä annetulla välillä\u001b[39;00m\n\u001b[0;32m     23\u001b[0m \u001b[38;5;28;01mif\u001b[39;00m func(a) \u001b[38;5;241m*\u001b[39m func(b) \u001b[38;5;241m>\u001b[39m\u001b[38;5;241m=\u001b[39m \u001b[38;5;241m0\u001b[39m:\n\u001b[1;32m---> 24\u001b[0m     \u001b[38;5;28;01mraise\u001b[39;00m \u001b[38;5;167;01mValueError\u001b[39;00m(\u001b[38;5;124m\"\u001b[39m\u001b[38;5;124mEi juurta tai useita juuria annetulla välillä, jakomenetelmä ei toimi.\u001b[39m\u001b[38;5;124m\"\u001b[39m)\n\u001b[0;32m     26\u001b[0m \u001b[38;5;66;03m# Alustetaan virheväli (b - a)\u001b[39;00m\n\u001b[0;32m     27\u001b[0m error \u001b[38;5;241m=\u001b[39m \u001b[38;5;28mabs\u001b[39m(b \u001b[38;5;241m-\u001b[39m a)\n",
      "\u001b[1;31mValueError\u001b[0m: Ei juurta tai useita juuria annetulla välillä, jakomenetelmä ei toimi."
     ]
    }
   ],
   "source": [
    "f3 = lambda x: x**2 + 1\n",
    "juuri3 = bisection_method(f3, -1, 1, 0.0001)  # Tämä aiheuttaa ValueErrorin"
   ]
  },
  {
   "cell_type": "markdown",
   "metadata": {},
   "source": [
    "Odotettu tulos: Virhe, koska funktio x^2 + 1 ei koskaan vaihda merkkiä (ei reaalijuuria)."
   ]
  },
  {
   "cell_type": "code",
   "execution_count": null,
   "metadata": {},
   "outputs": [],
   "source": []
  }
 ],
 "metadata": {
  "kernelspec": {
   "display_name": "Python 3",
   "language": "python",
   "name": "python3"
  },
  "language_info": {
   "codemirror_mode": {
    "name": "ipython",
    "version": 3
   },
   "file_extension": ".py",
   "mimetype": "text/x-python",
   "name": "python",
   "nbconvert_exporter": "python",
   "pygments_lexer": "ipython3",
   "version": "3.12.2"
  }
 },
 "nbformat": 4,
 "nbformat_minor": 2
}
